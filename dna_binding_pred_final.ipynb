{
 "cells": [
  {
   "cell_type": "markdown",
   "metadata": {
    "id": "Zixh3ofskHfs"
   },
   "source": [
    "# Pre-Processing\n"
   ]
  },
  {
   "cell_type": "markdown",
   "metadata": {
    "id": "vUk33k9tlNta"
   },
   "source": [
    "## importing necessary modules"
   ]
  },
  {
   "cell_type": "code",
   "execution_count": 1,
   "metadata": {
    "colab": {
     "base_uri": "https://localhost:8080/"
    },
    "id": "xTV3h79xAj2C",
    "outputId": "d1e3c614-4de0-42d3-ae27-79f28d957bb3"
   },
   "outputs": [
    {
     "name": "stdout",
     "output_type": "stream",
     "text": [
      "Defaulting to user installation because normal site-packages is not writeable\n",
      "Requirement already satisfied: biopython in /home/noob/.local/lib/python3.8/site-packages (1.77)\n",
      "Requirement already satisfied: numpy in /home/noob/.local/lib/python3.8/site-packages (from biopython) (1.19.0)\n",
      "\u001b[33mWARNING: You are using pip version 20.2.3; however, version 20.2.4 is available.\n",
      "You should consider upgrading via the '/usr/bin/python -m pip install --upgrade pip' command.\u001b[0m\n"
     ]
    }
   ],
   "source": [
    "!pip install biopython"
   ]
  },
  {
   "cell_type": "markdown",
   "metadata": {},
   "source": [
    "## Loading libraries"
   ]
  },
  {
   "cell_type": "code",
   "execution_count": 2,
   "metadata": {
    "id": "WumZKknelGBl"
   },
   "outputs": [],
   "source": [
    "import pandas as pd\n",
    "import numpy as np\n",
    "import matplotlib.pyplot as plt\n",
    "from collections import Counter\n",
    "from sklearn.model_selection import train_test_split\n",
    "from sklearn.svm import SVC\n",
    "from sklearn.neighbors import KNeighborsClassifier\n",
    "from Bio.SeqUtils.ProtParam import ProteinAnalysis\n",
    "from sklearn.metrics import accuracy_score\n",
    "from Bio.Align import AlignInfo\n",
    "from Bio import AlignIO\n"
   ]
  },
  {
   "cell_type": "markdown",
   "metadata": {
    "id": "8XPGhQCelBZ8"
   },
   "source": [
    "## getting the data"
   ]
  },
  {
   "cell_type": "code",
   "execution_count": 3,
   "metadata": {
    "id": "iPFIoV1qknOU"
   },
   "outputs": [],
   "source": [
    "training = pd.read_csv('mlba_train.csv') # Edit the path for your data here\n",
    "validation = pd.read_csv('valid.csv')"
   ]
  },
  {
   "cell_type": "code",
   "execution_count": 4,
   "metadata": {
    "colab": {
     "base_uri": "https://localhost:8080/",
     "height": 166
    },
    "id": "0eQrgnXHlyHD",
    "outputId": "a82a916e-8748-4f72-d4dd-1a026497fa0f"
   },
   "outputs": [
    {
     "data": {
      "text/html": [
       "<div>\n",
       "<style scoped>\n",
       "    .dataframe tbody tr th:only-of-type {\n",
       "        vertical-align: middle;\n",
       "    }\n",
       "\n",
       "    .dataframe tbody tr th {\n",
       "        vertical-align: top;\n",
       "    }\n",
       "\n",
       "    .dataframe thead th {\n",
       "        text-align: right;\n",
       "    }\n",
       "</style>\n",
       "<table border=\"1\" class=\"dataframe\">\n",
       "  <thead>\n",
       "    <tr style=\"text-align: right;\">\n",
       "      <th></th>\n",
       "      <th>ID</th>\n",
       "      <th>Type</th>\n",
       "      <th>Sequence</th>\n",
       "    </tr>\n",
       "  </thead>\n",
       "  <tbody>\n",
       "    <tr>\n",
       "      <th>count</th>\n",
       "      <td>3049</td>\n",
       "      <td>3049</td>\n",
       "      <td>3049</td>\n",
       "    </tr>\n",
       "    <tr>\n",
       "      <th>unique</th>\n",
       "      <td>3049</td>\n",
       "      <td>2</td>\n",
       "      <td>3048</td>\n",
       "    </tr>\n",
       "    <tr>\n",
       "      <th>top</th>\n",
       "      <td>D2750</td>\n",
       "      <td>NDNA</td>\n",
       "      <td>MKIIAYGARVDEIQYFKQWAKDTGNTLEYHTEFLDENTVEWAKGFD...</td>\n",
       "    </tr>\n",
       "    <tr>\n",
       "      <th>freq</th>\n",
       "      <td>1</td>\n",
       "      <td>1750</td>\n",
       "      <td>2</td>\n",
       "    </tr>\n",
       "  </tbody>\n",
       "</table>\n",
       "</div>"
      ],
      "text/plain": [
       "           ID  Type                                           Sequence\n",
       "count    3049  3049                                               3049\n",
       "unique   3049     2                                               3048\n",
       "top     D2750  NDNA  MKIIAYGARVDEIQYFKQWAKDTGNTLEYHTEFLDENTVEWAKGFD...\n",
       "freq        1  1750                                                  2"
      ]
     },
     "execution_count": 4,
     "metadata": {},
     "output_type": "execute_result"
    }
   ],
   "source": [
    "training.describe()  #describing the dataset to find anomaies if any"
   ]
  },
  {
   "cell_type": "markdown",
   "metadata": {},
   "source": [
    "### deleting non unique sequence"
   ]
  },
  {
   "cell_type": "code",
   "execution_count": 5,
   "metadata": {
    "id": "uk3zwMrnrkew"
   },
   "outputs": [],
   "source": [
    "training.drop(2119,inplace=True)\n",
    "training.reset_index(inplace=True)"
   ]
  },
  {
   "cell_type": "code",
   "execution_count": 6,
   "metadata": {
    "colab": {
     "base_uri": "https://localhost:8080/",
     "height": 195
    },
    "id": "pzyws6c4aVVS",
    "outputId": "46acd5c2-d09c-4830-e164-177531ac1dcc"
   },
   "outputs": [
    {
     "data": {
      "text/html": [
       "<div>\n",
       "<style scoped>\n",
       "    .dataframe tbody tr th:only-of-type {\n",
       "        vertical-align: middle;\n",
       "    }\n",
       "\n",
       "    .dataframe tbody tr th {\n",
       "        vertical-align: top;\n",
       "    }\n",
       "\n",
       "    .dataframe thead th {\n",
       "        text-align: right;\n",
       "    }\n",
       "</style>\n",
       "<table border=\"1\" class=\"dataframe\">\n",
       "  <thead>\n",
       "    <tr style=\"text-align: right;\">\n",
       "      <th></th>\n",
       "      <th>index</th>\n",
       "      <th>ID</th>\n",
       "      <th>Type</th>\n",
       "      <th>Sequence</th>\n",
       "    </tr>\n",
       "  </thead>\n",
       "  <tbody>\n",
       "    <tr>\n",
       "      <th>0</th>\n",
       "      <td>0</td>\n",
       "      <td>D1001</td>\n",
       "      <td>DNA</td>\n",
       "      <td>EPATILLIDDHPMLRTGVKQLISMAPDITVVGEASNGEQGIELAES...</td>\n",
       "    </tr>\n",
       "    <tr>\n",
       "      <th>1</th>\n",
       "      <td>1</td>\n",
       "      <td>D1005</td>\n",
       "      <td>DNA</td>\n",
       "      <td>MKRESHKHAEQARRNRLAVALHELASLIPAEWKQQNVSAAPSKATT...</td>\n",
       "    </tr>\n",
       "    <tr>\n",
       "      <th>2</th>\n",
       "      <td>2</td>\n",
       "      <td>D1008</td>\n",
       "      <td>DNA</td>\n",
       "      <td>RPYACPVESCDRRFSRSADLTRHIRIHTG</td>\n",
       "    </tr>\n",
       "    <tr>\n",
       "      <th>3</th>\n",
       "      <td>3</td>\n",
       "      <td>D1010</td>\n",
       "      <td>DNA</td>\n",
       "      <td>GPYLVIVEQPKQRGFRFRYGCEGPSHGGLPGASSEKGRKTYPTVKI...</td>\n",
       "    </tr>\n",
       "    <tr>\n",
       "      <th>4</th>\n",
       "      <td>4</td>\n",
       "      <td>D1015</td>\n",
       "      <td>DNA</td>\n",
       "      <td>ALTNAQILAVIDSWEETVGQFPVITHHVPLGGGLQGTLHCYEIPLA...</td>\n",
       "    </tr>\n",
       "  </tbody>\n",
       "</table>\n",
       "</div>"
      ],
      "text/plain": [
       "   index     ID  Type                                           Sequence\n",
       "0      0  D1001   DNA  EPATILLIDDHPMLRTGVKQLISMAPDITVVGEASNGEQGIELAES...\n",
       "1      1  D1005   DNA  MKRESHKHAEQARRNRLAVALHELASLIPAEWKQQNVSAAPSKATT...\n",
       "2      2  D1008   DNA                      RPYACPVESCDRRFSRSADLTRHIRIHTG\n",
       "3      3  D1010   DNA  GPYLVIVEQPKQRGFRFRYGCEGPSHGGLPGASSEKGRKTYPTVKI...\n",
       "4      4  D1015   DNA  ALTNAQILAVIDSWEETVGQFPVITHHVPLGGGLQGTLHCYEIPLA..."
      ]
     },
     "execution_count": 6,
     "metadata": {},
     "output_type": "execute_result"
    }
   ],
   "source": [
    "training.head()"
   ]
  },
  {
   "cell_type": "markdown",
   "metadata": {},
   "source": [
    "### changing labels to integer type for Algo to understand"
   ]
  },
  {
   "cell_type": "code",
   "execution_count": 7,
   "metadata": {
    "colab": {
     "base_uri": "https://localhost:8080/",
     "height": 195
    },
    "id": "WGUt0lrws3em",
    "outputId": "bcc07455-c26a-4a54-8f7f-849cf5b96b35"
   },
   "outputs": [
    {
     "data": {
      "text/html": [
       "<div>\n",
       "<style scoped>\n",
       "    .dataframe tbody tr th:only-of-type {\n",
       "        vertical-align: middle;\n",
       "    }\n",
       "\n",
       "    .dataframe tbody tr th {\n",
       "        vertical-align: top;\n",
       "    }\n",
       "\n",
       "    .dataframe thead th {\n",
       "        text-align: right;\n",
       "    }\n",
       "</style>\n",
       "<table border=\"1\" class=\"dataframe\">\n",
       "  <thead>\n",
       "    <tr style=\"text-align: right;\">\n",
       "      <th></th>\n",
       "      <th>index</th>\n",
       "      <th>ID</th>\n",
       "      <th>Type</th>\n",
       "      <th>Sequence</th>\n",
       "    </tr>\n",
       "  </thead>\n",
       "  <tbody>\n",
       "    <tr>\n",
       "      <th>0</th>\n",
       "      <td>0</td>\n",
       "      <td>D1001</td>\n",
       "      <td>1</td>\n",
       "      <td>EPATILLIDDHPMLRTGVKQLISMAPDITVVGEASNGEQGIELAES...</td>\n",
       "    </tr>\n",
       "    <tr>\n",
       "      <th>1</th>\n",
       "      <td>1</td>\n",
       "      <td>D1005</td>\n",
       "      <td>1</td>\n",
       "      <td>MKRESHKHAEQARRNRLAVALHELASLIPAEWKQQNVSAAPSKATT...</td>\n",
       "    </tr>\n",
       "    <tr>\n",
       "      <th>2</th>\n",
       "      <td>2</td>\n",
       "      <td>D1008</td>\n",
       "      <td>1</td>\n",
       "      <td>RPYACPVESCDRRFSRSADLTRHIRIHTG</td>\n",
       "    </tr>\n",
       "    <tr>\n",
       "      <th>3</th>\n",
       "      <td>3</td>\n",
       "      <td>D1010</td>\n",
       "      <td>1</td>\n",
       "      <td>GPYLVIVEQPKQRGFRFRYGCEGPSHGGLPGASSEKGRKTYPTVKI...</td>\n",
       "    </tr>\n",
       "    <tr>\n",
       "      <th>4</th>\n",
       "      <td>4</td>\n",
       "      <td>D1015</td>\n",
       "      <td>1</td>\n",
       "      <td>ALTNAQILAVIDSWEETVGQFPVITHHVPLGGGLQGTLHCYEIPLA...</td>\n",
       "    </tr>\n",
       "  </tbody>\n",
       "</table>\n",
       "</div>"
      ],
      "text/plain": [
       "   index     ID  Type                                           Sequence\n",
       "0      0  D1001     1  EPATILLIDDHPMLRTGVKQLISMAPDITVVGEASNGEQGIELAES...\n",
       "1      1  D1005     1  MKRESHKHAEQARRNRLAVALHELASLIPAEWKQQNVSAAPSKATT...\n",
       "2      2  D1008     1                      RPYACPVESCDRRFSRSADLTRHIRIHTG\n",
       "3      3  D1010     1  GPYLVIVEQPKQRGFRFRYGCEGPSHGGLPGASSEKGRKTYPTVKI...\n",
       "4      4  D1015     1  ALTNAQILAVIDSWEETVGQFPVITHHVPLGGGLQGTLHCYEIPLA..."
      ]
     },
     "execution_count": 7,
     "metadata": {},
     "output_type": "execute_result"
    }
   ],
   "source": [
    "training.loc[training[' Type'] == 'DNA', ' Type'] = 1\n",
    "training.loc[training[' Type'] == 'NDNA', ' Type'] = -1\n",
    "training.head()"
   ]
  },
  {
   "cell_type": "markdown",
   "metadata": {},
   "source": [
    "### coverting amino acid composition from given sequence"
   ]
  },
  {
   "cell_type": "code",
   "execution_count": 8,
   "metadata": {
    "colab": {
     "base_uri": "https://localhost:8080/"
    },
    "id": "0ZecKEKZMlpt",
    "outputId": "2710bfa7-9923-43df-840a-f628060ca01c"
   },
   "outputs": [
    {
     "data": {
      "text/html": [
       "<div>\n",
       "<style scoped>\n",
       "    .dataframe tbody tr th:only-of-type {\n",
       "        vertical-align: middle;\n",
       "    }\n",
       "\n",
       "    .dataframe tbody tr th {\n",
       "        vertical-align: top;\n",
       "    }\n",
       "\n",
       "    .dataframe thead th {\n",
       "        text-align: right;\n",
       "    }\n",
       "</style>\n",
       "<table border=\"1\" class=\"dataframe\">\n",
       "  <thead>\n",
       "    <tr style=\"text-align: right;\">\n",
       "      <th></th>\n",
       "      <th>A</th>\n",
       "      <th>C</th>\n",
       "      <th>D</th>\n",
       "      <th>E</th>\n",
       "      <th>F</th>\n",
       "      <th>G</th>\n",
       "      <th>H</th>\n",
       "      <th>I</th>\n",
       "      <th>K</th>\n",
       "      <th>L</th>\n",
       "      <th>M</th>\n",
       "      <th>N</th>\n",
       "      <th>P</th>\n",
       "      <th>Q</th>\n",
       "      <th>R</th>\n",
       "      <th>S</th>\n",
       "      <th>T</th>\n",
       "      <th>V</th>\n",
       "      <th>W</th>\n",
       "      <th>Y</th>\n",
       "    </tr>\n",
       "  </thead>\n",
       "  <tbody>\n",
       "    <tr>\n",
       "      <th>0</th>\n",
       "      <td>0.094203</td>\n",
       "      <td>0.000000</td>\n",
       "      <td>0.079710</td>\n",
       "      <td>0.094203</td>\n",
       "      <td>0.007246</td>\n",
       "      <td>0.072464</td>\n",
       "      <td>0.021739</td>\n",
       "      <td>0.050725</td>\n",
       "      <td>0.043478</td>\n",
       "      <td>0.173913</td>\n",
       "      <td>0.043478</td>\n",
       "      <td>0.028986</td>\n",
       "      <td>0.050725</td>\n",
       "      <td>0.021739</td>\n",
       "      <td>0.028986</td>\n",
       "      <td>0.065217</td>\n",
       "      <td>0.043478</td>\n",
       "      <td>0.072464</td>\n",
       "      <td>0.000000</td>\n",
       "      <td>0.007246</td>\n",
       "    </tr>\n",
       "    <tr>\n",
       "      <th>1</th>\n",
       "      <td>0.174603</td>\n",
       "      <td>0.015873</td>\n",
       "      <td>0.000000</td>\n",
       "      <td>0.079365</td>\n",
       "      <td>0.000000</td>\n",
       "      <td>0.015873</td>\n",
       "      <td>0.063492</td>\n",
       "      <td>0.031746</td>\n",
       "      <td>0.063492</td>\n",
       "      <td>0.079365</td>\n",
       "      <td>0.015873</td>\n",
       "      <td>0.047619</td>\n",
       "      <td>0.031746</td>\n",
       "      <td>0.079365</td>\n",
       "      <td>0.095238</td>\n",
       "      <td>0.079365</td>\n",
       "      <td>0.047619</td>\n",
       "      <td>0.047619</td>\n",
       "      <td>0.015873</td>\n",
       "      <td>0.015873</td>\n",
       "    </tr>\n",
       "    <tr>\n",
       "      <th>2</th>\n",
       "      <td>0.068966</td>\n",
       "      <td>0.068966</td>\n",
       "      <td>0.068966</td>\n",
       "      <td>0.034483</td>\n",
       "      <td>0.034483</td>\n",
       "      <td>0.034483</td>\n",
       "      <td>0.068966</td>\n",
       "      <td>0.068966</td>\n",
       "      <td>0.000000</td>\n",
       "      <td>0.034483</td>\n",
       "      <td>0.000000</td>\n",
       "      <td>0.000000</td>\n",
       "      <td>0.068966</td>\n",
       "      <td>0.000000</td>\n",
       "      <td>0.206897</td>\n",
       "      <td>0.103448</td>\n",
       "      <td>0.068966</td>\n",
       "      <td>0.034483</td>\n",
       "      <td>0.000000</td>\n",
       "      <td>0.034483</td>\n",
       "    </tr>\n",
       "    <tr>\n",
       "      <th>3</th>\n",
       "      <td>0.054348</td>\n",
       "      <td>0.021739</td>\n",
       "      <td>0.027174</td>\n",
       "      <td>0.065217</td>\n",
       "      <td>0.027174</td>\n",
       "      <td>0.086957</td>\n",
       "      <td>0.032609</td>\n",
       "      <td>0.043478</td>\n",
       "      <td>0.081522</td>\n",
       "      <td>0.092391</td>\n",
       "      <td>0.027174</td>\n",
       "      <td>0.021739</td>\n",
       "      <td>0.076087</td>\n",
       "      <td>0.059783</td>\n",
       "      <td>0.070652</td>\n",
       "      <td>0.081522</td>\n",
       "      <td>0.038043</td>\n",
       "      <td>0.070652</td>\n",
       "      <td>0.000000</td>\n",
       "      <td>0.021739</td>\n",
       "    </tr>\n",
       "    <tr>\n",
       "      <th>4</th>\n",
       "      <td>0.061728</td>\n",
       "      <td>0.049383</td>\n",
       "      <td>0.024691</td>\n",
       "      <td>0.030864</td>\n",
       "      <td>0.024691</td>\n",
       "      <td>0.117284</td>\n",
       "      <td>0.067901</td>\n",
       "      <td>0.037037</td>\n",
       "      <td>0.024691</td>\n",
       "      <td>0.086420</td>\n",
       "      <td>0.000000</td>\n",
       "      <td>0.061728</td>\n",
       "      <td>0.080247</td>\n",
       "      <td>0.049383</td>\n",
       "      <td>0.043210</td>\n",
       "      <td>0.030864</td>\n",
       "      <td>0.067901</td>\n",
       "      <td>0.086420</td>\n",
       "      <td>0.030864</td>\n",
       "      <td>0.024691</td>\n",
       "    </tr>\n",
       "  </tbody>\n",
       "</table>\n",
       "</div>"
      ],
      "text/plain": [
       "          A         C         D         E         F         G         H  \\\n",
       "0  0.094203  0.000000  0.079710  0.094203  0.007246  0.072464  0.021739   \n",
       "1  0.174603  0.015873  0.000000  0.079365  0.000000  0.015873  0.063492   \n",
       "2  0.068966  0.068966  0.068966  0.034483  0.034483  0.034483  0.068966   \n",
       "3  0.054348  0.021739  0.027174  0.065217  0.027174  0.086957  0.032609   \n",
       "4  0.061728  0.049383  0.024691  0.030864  0.024691  0.117284  0.067901   \n",
       "\n",
       "          I         K         L         M         N         P         Q  \\\n",
       "0  0.050725  0.043478  0.173913  0.043478  0.028986  0.050725  0.021739   \n",
       "1  0.031746  0.063492  0.079365  0.015873  0.047619  0.031746  0.079365   \n",
       "2  0.068966  0.000000  0.034483  0.000000  0.000000  0.068966  0.000000   \n",
       "3  0.043478  0.081522  0.092391  0.027174  0.021739  0.076087  0.059783   \n",
       "4  0.037037  0.024691  0.086420  0.000000  0.061728  0.080247  0.049383   \n",
       "\n",
       "          R         S         T         V         W         Y  \n",
       "0  0.028986  0.065217  0.043478  0.072464  0.000000  0.007246  \n",
       "1  0.095238  0.079365  0.047619  0.047619  0.015873  0.015873  \n",
       "2  0.206897  0.103448  0.068966  0.034483  0.000000  0.034483  \n",
       "3  0.070652  0.081522  0.038043  0.070652  0.000000  0.021739  \n",
       "4  0.043210  0.030864  0.067901  0.086420  0.030864  0.024691  "
      ]
     },
     "execution_count": 8,
     "metadata": {},
     "output_type": "execute_result"
    }
   ],
   "source": [
    "import collections\n",
    "\n",
    "def merge_dicts(dicts):\n",
    "    merged = collections.defaultdict(list)\n",
    "    for d in dicts:\n",
    "        for k, v in d.items():\n",
    "            merged[k].append(v)\n",
    "    return dict(merged)\n",
    "\n",
    "seq_dictionary = []\n",
    "for i,sequence in enumerate(training[' Sequence']):\n",
    "  X = ProteinAnalysis(sequence)\n",
    "  seq_dictionary.append(X.get_amino_acids_percent())\n",
    "\n",
    "merged = merge_dicts(seq_dictionary)\n",
    "percent_comp = pd.DataFrame(merged)\n",
    "percent_comp.head()"
   ]
  },
  {
   "cell_type": "code",
   "execution_count": 9,
   "metadata": {
    "colab": {
     "base_uri": "https://localhost:8080/",
     "height": 195
    },
    "id": "eNhMB7AgYo3L",
    "outputId": "d06936b3-74a3-4a1c-f8dd-1e190465318d"
   },
   "outputs": [
    {
     "data": {
      "text/html": [
       "<div>\n",
       "<style scoped>\n",
       "    .dataframe tbody tr th:only-of-type {\n",
       "        vertical-align: middle;\n",
       "    }\n",
       "\n",
       "    .dataframe tbody tr th {\n",
       "        vertical-align: top;\n",
       "    }\n",
       "\n",
       "    .dataframe thead th {\n",
       "        text-align: right;\n",
       "    }\n",
       "</style>\n",
       "<table border=\"1\" class=\"dataframe\">\n",
       "  <thead>\n",
       "    <tr style=\"text-align: right;\">\n",
       "      <th></th>\n",
       "      <th>index</th>\n",
       "      <th>ID</th>\n",
       "      <th>Type</th>\n",
       "      <th>Sequence</th>\n",
       "    </tr>\n",
       "  </thead>\n",
       "  <tbody>\n",
       "    <tr>\n",
       "      <th>3043</th>\n",
       "      <td>3044</td>\n",
       "      <td>N5408</td>\n",
       "      <td>-1</td>\n",
       "      <td>MANMLYFSLLALLFMTGIASEGTISSGLASLKAKIDAKRPSGKQLF...</td>\n",
       "    </tr>\n",
       "    <tr>\n",
       "      <th>3044</th>\n",
       "      <td>3045</td>\n",
       "      <td>N5410</td>\n",
       "      <td>-1</td>\n",
       "      <td>MTFRKSFDCYDFYDRAKVGEKCTQDDWDLMKIPMKAMELKQKYGLD...</td>\n",
       "    </tr>\n",
       "    <tr>\n",
       "      <th>3045</th>\n",
       "      <td>3046</td>\n",
       "      <td>N5412</td>\n",
       "      <td>-1</td>\n",
       "      <td>MSPYFKLSSALIFLAITMEALCSPIENTSTSNKDNDKETEHIEISA...</td>\n",
       "    </tr>\n",
       "    <tr>\n",
       "      <th>3046</th>\n",
       "      <td>3047</td>\n",
       "      <td>N5414</td>\n",
       "      <td>-1</td>\n",
       "      <td>MGRICPVNSRARRLRARPGRPSGDSLPYHQLQGGAPRLWSPDPGRP...</td>\n",
       "    </tr>\n",
       "    <tr>\n",
       "      <th>3047</th>\n",
       "      <td>3048</td>\n",
       "      <td>N5416</td>\n",
       "      <td>-1</td>\n",
       "      <td>MYSFVSEETGTLIVNSVLLFLAFVVFLLVTLAILTALRLCAYCCNI...</td>\n",
       "    </tr>\n",
       "  </tbody>\n",
       "</table>\n",
       "</div>"
      ],
      "text/plain": [
       "      index     ID  Type                                           Sequence\n",
       "3043   3044  N5408    -1  MANMLYFSLLALLFMTGIASEGTISSGLASLKAKIDAKRPSGKQLF...\n",
       "3044   3045  N5410    -1  MTFRKSFDCYDFYDRAKVGEKCTQDDWDLMKIPMKAMELKQKYGLD...\n",
       "3045   3046  N5412    -1  MSPYFKLSSALIFLAITMEALCSPIENTSTSNKDNDKETEHIEISA...\n",
       "3046   3047  N5414    -1  MGRICPVNSRARRLRARPGRPSGDSLPYHQLQGGAPRLWSPDPGRP...\n",
       "3047   3048  N5416    -1  MYSFVSEETGTLIVNSVLLFLAFVVFLLVTLAILTALRLCAYCCNI..."
      ]
     },
     "execution_count": 9,
     "metadata": {},
     "output_type": "execute_result"
    }
   ],
   "source": [
    "training.tail()"
   ]
  },
  {
   "cell_type": "code",
   "execution_count": 10,
   "metadata": {
    "colab": {
     "base_uri": "https://localhost:8080/",
     "height": 249
    },
    "id": "nmzBCEbpDcVL",
    "outputId": "3f423e2d-e356-43f5-fd8a-03faf70e9a61"
   },
   "outputs": [
    {
     "data": {
      "text/html": [
       "<div>\n",
       "<style scoped>\n",
       "    .dataframe tbody tr th:only-of-type {\n",
       "        vertical-align: middle;\n",
       "    }\n",
       "\n",
       "    .dataframe tbody tr th {\n",
       "        vertical-align: top;\n",
       "    }\n",
       "\n",
       "    .dataframe thead th {\n",
       "        text-align: right;\n",
       "    }\n",
       "</style>\n",
       "<table border=\"1\" class=\"dataframe\">\n",
       "  <thead>\n",
       "    <tr style=\"text-align: right;\">\n",
       "      <th></th>\n",
       "      <th>index</th>\n",
       "      <th>ID</th>\n",
       "      <th>Type</th>\n",
       "      <th>Sequence</th>\n",
       "      <th>A</th>\n",
       "      <th>C</th>\n",
       "      <th>D</th>\n",
       "      <th>E</th>\n",
       "      <th>F</th>\n",
       "      <th>G</th>\n",
       "      <th>...</th>\n",
       "      <th>M</th>\n",
       "      <th>N</th>\n",
       "      <th>P</th>\n",
       "      <th>Q</th>\n",
       "      <th>R</th>\n",
       "      <th>S</th>\n",
       "      <th>T</th>\n",
       "      <th>V</th>\n",
       "      <th>W</th>\n",
       "      <th>Y</th>\n",
       "    </tr>\n",
       "  </thead>\n",
       "  <tbody>\n",
       "    <tr>\n",
       "      <th>0</th>\n",
       "      <td>0</td>\n",
       "      <td>D1001</td>\n",
       "      <td>1</td>\n",
       "      <td>EPATILLIDDHPMLRTGVKQLISMAPDITVVGEASNGEQGIELAES...</td>\n",
       "      <td>0.094203</td>\n",
       "      <td>0.000000</td>\n",
       "      <td>0.079710</td>\n",
       "      <td>0.094203</td>\n",
       "      <td>0.007246</td>\n",
       "      <td>0.072464</td>\n",
       "      <td>...</td>\n",
       "      <td>0.043478</td>\n",
       "      <td>0.028986</td>\n",
       "      <td>0.050725</td>\n",
       "      <td>0.021739</td>\n",
       "      <td>0.028986</td>\n",
       "      <td>0.065217</td>\n",
       "      <td>0.043478</td>\n",
       "      <td>0.072464</td>\n",
       "      <td>0.000000</td>\n",
       "      <td>0.007246</td>\n",
       "    </tr>\n",
       "    <tr>\n",
       "      <th>1</th>\n",
       "      <td>1</td>\n",
       "      <td>D1005</td>\n",
       "      <td>1</td>\n",
       "      <td>MKRESHKHAEQARRNRLAVALHELASLIPAEWKQQNVSAAPSKATT...</td>\n",
       "      <td>0.174603</td>\n",
       "      <td>0.015873</td>\n",
       "      <td>0.000000</td>\n",
       "      <td>0.079365</td>\n",
       "      <td>0.000000</td>\n",
       "      <td>0.015873</td>\n",
       "      <td>...</td>\n",
       "      <td>0.015873</td>\n",
       "      <td>0.047619</td>\n",
       "      <td>0.031746</td>\n",
       "      <td>0.079365</td>\n",
       "      <td>0.095238</td>\n",
       "      <td>0.079365</td>\n",
       "      <td>0.047619</td>\n",
       "      <td>0.047619</td>\n",
       "      <td>0.015873</td>\n",
       "      <td>0.015873</td>\n",
       "    </tr>\n",
       "    <tr>\n",
       "      <th>2</th>\n",
       "      <td>2</td>\n",
       "      <td>D1008</td>\n",
       "      <td>1</td>\n",
       "      <td>RPYACPVESCDRRFSRSADLTRHIRIHTG</td>\n",
       "      <td>0.068966</td>\n",
       "      <td>0.068966</td>\n",
       "      <td>0.068966</td>\n",
       "      <td>0.034483</td>\n",
       "      <td>0.034483</td>\n",
       "      <td>0.034483</td>\n",
       "      <td>...</td>\n",
       "      <td>0.000000</td>\n",
       "      <td>0.000000</td>\n",
       "      <td>0.068966</td>\n",
       "      <td>0.000000</td>\n",
       "      <td>0.206897</td>\n",
       "      <td>0.103448</td>\n",
       "      <td>0.068966</td>\n",
       "      <td>0.034483</td>\n",
       "      <td>0.000000</td>\n",
       "      <td>0.034483</td>\n",
       "    </tr>\n",
       "    <tr>\n",
       "      <th>3</th>\n",
       "      <td>3</td>\n",
       "      <td>D1010</td>\n",
       "      <td>1</td>\n",
       "      <td>GPYLVIVEQPKQRGFRFRYGCEGPSHGGLPGASSEKGRKTYPTVKI...</td>\n",
       "      <td>0.054348</td>\n",
       "      <td>0.021739</td>\n",
       "      <td>0.027174</td>\n",
       "      <td>0.065217</td>\n",
       "      <td>0.027174</td>\n",
       "      <td>0.086957</td>\n",
       "      <td>...</td>\n",
       "      <td>0.027174</td>\n",
       "      <td>0.021739</td>\n",
       "      <td>0.076087</td>\n",
       "      <td>0.059783</td>\n",
       "      <td>0.070652</td>\n",
       "      <td>0.081522</td>\n",
       "      <td>0.038043</td>\n",
       "      <td>0.070652</td>\n",
       "      <td>0.000000</td>\n",
       "      <td>0.021739</td>\n",
       "    </tr>\n",
       "    <tr>\n",
       "      <th>4</th>\n",
       "      <td>4</td>\n",
       "      <td>D1015</td>\n",
       "      <td>1</td>\n",
       "      <td>ALTNAQILAVIDSWEETVGQFPVITHHVPLGGGLQGTLHCYEIPLA...</td>\n",
       "      <td>0.061728</td>\n",
       "      <td>0.049383</td>\n",
       "      <td>0.024691</td>\n",
       "      <td>0.030864</td>\n",
       "      <td>0.024691</td>\n",
       "      <td>0.117284</td>\n",
       "      <td>...</td>\n",
       "      <td>0.000000</td>\n",
       "      <td>0.061728</td>\n",
       "      <td>0.080247</td>\n",
       "      <td>0.049383</td>\n",
       "      <td>0.043210</td>\n",
       "      <td>0.030864</td>\n",
       "      <td>0.067901</td>\n",
       "      <td>0.086420</td>\n",
       "      <td>0.030864</td>\n",
       "      <td>0.024691</td>\n",
       "    </tr>\n",
       "  </tbody>\n",
       "</table>\n",
       "<p>5 rows × 24 columns</p>\n",
       "</div>"
      ],
      "text/plain": [
       "   index     ID  Type                                           Sequence  \\\n",
       "0      0  D1001     1  EPATILLIDDHPMLRTGVKQLISMAPDITVVGEASNGEQGIELAES...   \n",
       "1      1  D1005     1  MKRESHKHAEQARRNRLAVALHELASLIPAEWKQQNVSAAPSKATT...   \n",
       "2      2  D1008     1                      RPYACPVESCDRRFSRSADLTRHIRIHTG   \n",
       "3      3  D1010     1  GPYLVIVEQPKQRGFRFRYGCEGPSHGGLPGASSEKGRKTYPTVKI...   \n",
       "4      4  D1015     1  ALTNAQILAVIDSWEETVGQFPVITHHVPLGGGLQGTLHCYEIPLA...   \n",
       "\n",
       "          A         C         D         E         F         G  ...         M  \\\n",
       "0  0.094203  0.000000  0.079710  0.094203  0.007246  0.072464  ...  0.043478   \n",
       "1  0.174603  0.015873  0.000000  0.079365  0.000000  0.015873  ...  0.015873   \n",
       "2  0.068966  0.068966  0.068966  0.034483  0.034483  0.034483  ...  0.000000   \n",
       "3  0.054348  0.021739  0.027174  0.065217  0.027174  0.086957  ...  0.027174   \n",
       "4  0.061728  0.049383  0.024691  0.030864  0.024691  0.117284  ...  0.000000   \n",
       "\n",
       "          N         P         Q         R         S         T         V  \\\n",
       "0  0.028986  0.050725  0.021739  0.028986  0.065217  0.043478  0.072464   \n",
       "1  0.047619  0.031746  0.079365  0.095238  0.079365  0.047619  0.047619   \n",
       "2  0.000000  0.068966  0.000000  0.206897  0.103448  0.068966  0.034483   \n",
       "3  0.021739  0.076087  0.059783  0.070652  0.081522  0.038043  0.070652   \n",
       "4  0.061728  0.080247  0.049383  0.043210  0.030864  0.067901  0.086420   \n",
       "\n",
       "          W         Y  \n",
       "0  0.000000  0.007246  \n",
       "1  0.015873  0.015873  \n",
       "2  0.000000  0.034483  \n",
       "3  0.000000  0.021739  \n",
       "4  0.030864  0.024691  \n",
       "\n",
       "[5 rows x 24 columns]"
      ]
     },
     "execution_count": 10,
     "metadata": {},
     "output_type": "execute_result"
    }
   ],
   "source": [
    "final_training = pd.concat([training,percent_comp], axis = 1)\n",
    "final_training.head()"
   ]
  },
  {
   "cell_type": "markdown",
   "metadata": {},
   "source": [
    "### drop sequence column"
   ]
  },
  {
   "cell_type": "code",
   "execution_count": 11,
   "metadata": {
    "id": "3aFIusK-E-7I"
   },
   "outputs": [],
   "source": [
    "X = final_training.drop([' Sequence','ID',' Type','index'],axis=1)\n",
    "y = pd.DataFrame(final_training[' Type'],dtype=np.float32)"
   ]
  },
  {
   "cell_type": "code",
   "execution_count": null,
   "metadata": {
    "colab": {
     "base_uri": "https://localhost:8080/",
     "height": 215
    },
    "id": "1RM4FFj75cAu",
    "outputId": "ebd4cba2-facb-4806-f7c0-95a5d2c97fb1"
   },
   "outputs": [],
   "source": [
    "X.head()"
   ]
  },
  {
   "cell_type": "code",
   "execution_count": null,
   "metadata": {
    "colab": {
     "base_uri": "https://localhost:8080/",
     "height": 195
    },
    "id": "60_XELXo5gZ-",
    "outputId": "2baade7b-3198-41fe-84f7-e466c99767e2"
   },
   "outputs": [],
   "source": [
    "y.head()"
   ]
  },
  {
   "cell_type": "markdown",
   "metadata": {
    "id": "namIgoF9wpKj"
   },
   "source": [
    "## split the training data set"
   ]
  },
  {
   "cell_type": "code",
   "execution_count": null,
   "metadata": {
    "id": "xqdovoefxLH4"
   },
   "outputs": [],
   "source": [
    "X_train, X_test, y_train, y_test = train_test_split(X, y, test_size=0.2,)"
   ]
  },
  {
   "cell_type": "code",
   "execution_count": null,
   "metadata": {
    "colab": {
     "base_uri": "https://localhost:8080/",
     "height": 304
    },
    "id": "bnQUtFlWy6n9",
    "outputId": "d1e82e3b-0e61-494e-ee9e-43cf6ccffd02"
   },
   "outputs": [],
   "source": [
    "X_train.describe()"
   ]
  },
  {
   "cell_type": "markdown",
   "metadata": {
    "id": "iEHUhgtvkHXR"
   },
   "source": [
    "# Processing"
   ]
  },
  {
   "cell_type": "markdown",
   "metadata": {
    "id": "2BJt3VKQwruD"
   },
   "source": [
    "## trying SVM"
   ]
  },
  {
   "cell_type": "code",
   "execution_count": null,
   "metadata": {
    "colab": {
     "base_uri": "https://localhost:8080/"
    },
    "id": "AsXyr3njzYjV",
    "outputId": "cc73082d-9a93-41e5-c1a8-dc7e18e21d72"
   },
   "outputs": [],
   "source": [
    "svm_classifier = SVC()\n",
    "svm_classifier.fit(X_train,y_train)"
   ]
  },
  {
   "cell_type": "code",
   "execution_count": null,
   "metadata": {
    "id": "KBcLaCiLa3rP"
   },
   "outputs": [],
   "source": [
    "y_pred_svm = svm_classifier.predict(X_test)"
   ]
  },
  {
   "cell_type": "markdown",
   "metadata": {
    "id": "zoxBHXG0wqHE"
   },
   "source": [
    "## trying k- neighborhood"
   ]
  },
  {
   "cell_type": "code",
   "execution_count": null,
   "metadata": {
    "colab": {
     "base_uri": "https://localhost:8080/"
    },
    "id": "Iwj0i7x_ay1i",
    "outputId": "e3a82b5c-4714-4ab3-a92d-cbf64d024ea1"
   },
   "outputs": [],
   "source": [
    "knn_classifier = KNeighborsClassifier(n_neighbors=2)\n",
    "knn_classifier.fit(X_train,y_train)"
   ]
  },
  {
   "cell_type": "code",
   "execution_count": null,
   "metadata": {
    "id": "WPGYxW5MfL9r"
   },
   "outputs": [],
   "source": [
    "y_pred_knn = knn_classifier.predict(X_test)"
   ]
  },
  {
   "cell_type": "markdown",
   "metadata": {
    "id": "sP0UFvRFwp47"
   },
   "source": [
    "## trying naive bayes"
   ]
  },
  {
   "cell_type": "code",
   "execution_count": null,
   "metadata": {
    "colab": {
     "base_uri": "https://localhost:8080/"
    },
    "id": "LWFllEZxazRA",
    "outputId": "169fea5e-c73e-4a3a-ecda-5c7cd2668954"
   },
   "outputs": [],
   "source": [
    "from sklearn.naive_bayes import GaussianNB\n",
    "nb_classifier = GaussianNB()\n",
    "nb_classifier.fit(X_train,y_train)"
   ]
  },
  {
   "cell_type": "code",
   "execution_count": null,
   "metadata": {
    "id": "seythwUvf2hX"
   },
   "outputs": [],
   "source": [
    "y_pred_nb = nb_classifier.predict(X_test) "
   ]
  },
  {
   "cell_type": "markdown",
   "metadata": {
    "id": "8eOXiPUEkHKA"
   },
   "source": [
    "# Post-Processing"
   ]
  },
  {
   "cell_type": "code",
   "execution_count": null,
   "metadata": {
    "colab": {
     "base_uri": "https://localhost:8080/"
    },
    "id": "xJdRsQEdkky4",
    "outputId": "22200ab6-230a-4484-8fa1-c9643894fa88"
   },
   "outputs": [],
   "source": [
    "print(f\"SVM accuracy :{accuracy_score(y_test, y_pred_svm)}\")"
   ]
  },
  {
   "cell_type": "code",
   "execution_count": null,
   "metadata": {
    "colab": {
     "base_uri": "https://localhost:8080/"
    },
    "id": "6x_QHzhtbuWT",
    "outputId": "79846366-761f-458d-b361-baf5e1b21ddb"
   },
   "outputs": [],
   "source": [
    "print(f\"Naive Bayes accuracy :{accuracy_score(y_test, y_pred_nb)}\")"
   ]
  },
  {
   "cell_type": "code",
   "execution_count": null,
   "metadata": {
    "colab": {
     "base_uri": "https://localhost:8080/"
    },
    "id": "LB-Dwne_gF8e",
    "outputId": "ef447f0e-dc57-49e2-ae6d-446cd4a6593b"
   },
   "outputs": [],
   "source": [
    "print(f\"KNN accuracy :{accuracy_score(y_test, y_pred_knn)}\")"
   ]
  },
  {
   "cell_type": "markdown",
   "metadata": {},
   "source": [
    "### Working on test data"
   ]
  },
  {
   "cell_type": "code",
   "execution_count": null,
   "metadata": {
    "colab": {
     "base_uri": "https://localhost:8080/",
     "height": 195
    },
    "id": "45WfvUsF2arm",
    "outputId": "c4044371-1f9e-42ab-942e-80edcfb08921"
   },
   "outputs": [],
   "source": [
    "validation.head()"
   ]
  },
  {
   "cell_type": "code",
   "execution_count": null,
   "metadata": {
    "colab": {
     "base_uri": "https://localhost:8080/"
    },
    "id": "I9FVNn54-PRc",
    "outputId": "c37efa24-4fbb-4910-99f5-4a3be497e056"
   },
   "outputs": [],
   "source": [
    "print(validation[' Sequence'].shape)"
   ]
  },
  {
   "cell_type": "markdown",
   "metadata": {},
   "source": [
    "### Converting sequence to amino acid composition"
   ]
  },
  {
   "cell_type": "code",
   "execution_count": null,
   "metadata": {
    "colab": {
     "base_uri": "https://localhost:8080/",
     "height": 232
    },
    "id": "yLGRg5if3Q1p",
    "outputId": "3571a2b5-3ea6-4661-b58f-bc677ef0e997"
   },
   "outputs": [],
   "source": [
    "seq_dictionary_valid = []\n",
    "for i,sequence in enumerate(validation[' Sequence']):\n",
    "  X = ProteinAnalysis(sequence)\n",
    "  seq_dictionary_valid.append(X.get_amino_acids_percent())\n",
    "\n",
    "merged_validation = merge_dicts(seq_dictionary_valid)\n",
    "percent_comp_validation = pd.DataFrame(merged_validation)\n",
    "percent_comp_validation.head()"
   ]
  },
  {
   "cell_type": "code",
   "execution_count": null,
   "metadata": {
    "colab": {
     "base_uri": "https://localhost:8080/",
     "height": 232
    },
    "id": "c6lJAdx-3uhT",
    "outputId": "07e713bf-8e22-4693-905e-82722a547b6c"
   },
   "outputs": [],
   "source": [
    "final_validation = pd.concat([validation,percent_comp_validation], axis = 1)\n",
    "print(final_validation.shape)\n",
    "final_validation.head()"
   ]
  },
  {
   "cell_type": "code",
   "execution_count": null,
   "metadata": {
    "colab": {
     "base_uri": "https://localhost:8080/",
     "height": 215
    },
    "id": "DbK46LLp36dd",
    "outputId": "691e3534-e6ff-4731-f125-836274b4717a"
   },
   "outputs": [],
   "source": [
    "X_val = final_validation.drop([' Sequence','ID'],axis=1)\n",
    "X_val.head()"
   ]
  },
  {
   "cell_type": "markdown",
   "metadata": {},
   "source": [
    "### Prediction generation"
   ]
  },
  {
   "cell_type": "code",
   "execution_count": null,
   "metadata": {
    "id": "cf-FKxfD4Axk"
   },
   "outputs": [],
   "source": [
    "y_pred_svm_valid = svm_classifier.predict(X_val).astype(int)"
   ]
  },
  {
   "cell_type": "markdown",
   "metadata": {},
   "source": [
    "### Saving the output file to csv"
   ]
  },
  {
   "cell_type": "code",
   "execution_count": null,
   "metadata": {
    "id": "35EDidQwA3nl"
   },
   "outputs": [],
   "source": [
    "def get_label_csv(predictions,name_of_file):\n",
    "  labels = pd.DataFrame({'Lable':predictions})\n",
    "  final_output = pd.concat([final_validation['ID'],labels],axis=1)\n",
    "  final_output.to_csv(name_of_file,index=False)"
   ]
  },
  {
   "cell_type": "code",
   "execution_count": null,
   "metadata": {
    "id": "yMs0BZeB6-jG"
   },
   "outputs": [],
   "source": [
    "get_label_csv(y_pred_svm_valid,'svm_result_valid.csv')"
   ]
  },
  {
   "cell_type": "code",
   "execution_count": null,
   "metadata": {
    "id": "N8fLGwAO4J-i"
   },
   "outputs": [],
   "source": [
    "y_pred_knn_valid = knn_classifier.predict(X_val)"
   ]
  },
  {
   "cell_type": "code",
   "execution_count": null,
   "metadata": {
    "id": "4SBtnOQGBrUl"
   },
   "outputs": [],
   "source": [
    "get_label_csv(y_pred_knn_valid,'knn_result_valid.csv')"
   ]
  },
  {
   "cell_type": "code",
   "execution_count": null,
   "metadata": {
    "id": "MU0UweXc4pgp"
   },
   "outputs": [],
   "source": [
    "y_pred_nb_val = nb_classifier.predict(X_val)"
   ]
  },
  {
   "cell_type": "code",
   "execution_count": null,
   "metadata": {
    "id": "YoenzcTGB0tc"
   },
   "outputs": [],
   "source": [
    "get_label_csv(y_pred_nb_val,'nb_result_valid.csv')"
   ]
  }
 ],
 "metadata": {
  "colab": {
   "collapsed_sections": [],
   "name": "trini_learing_ML1_clean.ipynb",
   "provenance": []
  },
  "kernelspec": {
   "display_name": "Python 3",
   "language": "python",
   "name": "python3"
  },
  "language_info": {
   "codemirror_mode": {
    "name": "ipython",
    "version": 3
   },
   "file_extension": ".py",
   "mimetype": "text/x-python",
   "name": "python",
   "nbconvert_exporter": "python",
   "pygments_lexer": "ipython3",
   "version": "3.8.3"
  }
 },
 "nbformat": 4,
 "nbformat_minor": 1
}
